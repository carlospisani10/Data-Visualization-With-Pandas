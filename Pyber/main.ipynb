{
 "cells": [
  {
   "cell_type": "markdown",
   "metadata": {},
   "source": [
    "# # Your objective is to build a [Bubble Plot] that showcases the relationship between four key variables:\n",
    "* Average Fare ($) Per City\n",
    "* Total Number of Rides Per City\n",
    "* Total Number of Drivers Per City\n",
    "* City Type (Urban, Suburban, Rural)"
   ]
  },
  {
   "cell_type": "code",
   "execution_count": 43,
   "metadata": {
    "collapsed": true
   },
   "outputs": [],
   "source": [
    "import matplotlib.pyplot as plt\n",
    "import numpy as np\n",
    "import pandas as pd\n",
    "from scipy.stats import sem"
   ]
  },
  {
   "cell_type": "code",
   "execution_count": 44,
   "metadata": {},
   "outputs": [
    {
     "data": {
      "text/plain": [
       "array(['Urban', 'Suburban', 'Rural'], dtype=object)"
      ]
     },
     "execution_count": 44,
     "metadata": {},
     "output_type": "execute_result"
    }
   ],
   "source": [
    "#import data\n",
    "city = 'raw_data/city_data.csv'\n",
    "ride = 'raw_data/ride_data.csv'\n",
    "city_df = pd.read_csv(city, low_memory=False)\n",
    "ride_df = pd.read_csv(ride, low_memory=False)\n",
    "\n",
    "#merge the two dataframes\n",
    "pyber_df = pd.merge(ride_df, city_df, on=\"city\", how=\"outer\")\n",
    "city_type = pyber_df[\"type\"].unique()\n",
    "city_type\n"
   ]
  },
  {
   "cell_type": "code",
   "execution_count": 45,
   "metadata": {},
   "outputs": [
    {
     "data": {
      "text/html": [
       "<div>\n",
       "<style>\n",
       "    .dataframe thead tr:only-child th {\n",
       "        text-align: right;\n",
       "    }\n",
       "\n",
       "    .dataframe thead th {\n",
       "        text-align: left;\n",
       "    }\n",
       "\n",
       "    .dataframe tbody tr th {\n",
       "        vertical-align: top;\n",
       "    }\n",
       "</style>\n",
       "<table border=\"1\" class=\"dataframe\">\n",
       "  <thead>\n",
       "    <tr style=\"text-align: right;\">\n",
       "      <th></th>\n",
       "      <th></th>\n",
       "      <th>Number of Rides</th>\n",
       "      <th>Average Fare per Ride</th>\n",
       "      <th>% of Total Rides</th>\n",
       "      <th>% of Total Fares</th>\n",
       "    </tr>\n",
       "    <tr>\n",
       "      <th>type</th>\n",
       "      <th>city</th>\n",
       "      <th></th>\n",
       "      <th></th>\n",
       "      <th></th>\n",
       "      <th></th>\n",
       "    </tr>\n",
       "  </thead>\n",
       "  <tbody>\n",
       "    <tr>\n",
       "      <th rowspan=\"5\" valign=\"top\">Rural</th>\n",
       "      <th>East Leslie</th>\n",
       "      <td>11</td>\n",
       "      <td>34.0</td>\n",
       "      <td>0.46</td>\n",
       "      <td>0.97</td>\n",
       "    </tr>\n",
       "    <tr>\n",
       "      <th>East Stephen</th>\n",
       "      <td>10</td>\n",
       "      <td>39.0</td>\n",
       "      <td>0.42</td>\n",
       "      <td>1.11</td>\n",
       "    </tr>\n",
       "    <tr>\n",
       "      <th>East Troybury</th>\n",
       "      <td>7</td>\n",
       "      <td>33.0</td>\n",
       "      <td>0.29</td>\n",
       "      <td>0.94</td>\n",
       "    </tr>\n",
       "    <tr>\n",
       "      <th>Erikport</th>\n",
       "      <td>8</td>\n",
       "      <td>30.0</td>\n",
       "      <td>0.33</td>\n",
       "      <td>0.86</td>\n",
       "    </tr>\n",
       "    <tr>\n",
       "      <th>Hernandezshire</th>\n",
       "      <td>9</td>\n",
       "      <td>32.0</td>\n",
       "      <td>0.37</td>\n",
       "      <td>0.91</td>\n",
       "    </tr>\n",
       "  </tbody>\n",
       "</table>\n",
       "</div>"
      ],
      "text/plain": [
       "                      Number of Rides  Average Fare per Ride  \\\n",
       "type  city                                                     \n",
       "Rural East Leslie                  11                   34.0   \n",
       "      East Stephen                 10                   39.0   \n",
       "      East Troybury                 7                   33.0   \n",
       "      Erikport                      8                   30.0   \n",
       "      Hernandezshire                9                   32.0   \n",
       "\n",
       "                      % of Total Rides  % of Total Fares  \n",
       "type  city                                                \n",
       "Rural East Leslie                 0.46              0.97  \n",
       "      East Stephen                0.42              1.11  \n",
       "      East Troybury               0.29              0.94  \n",
       "      Erikport                    0.33              0.86  \n",
       "      Hernandezshire              0.37              0.91  "
      ]
     },
     "execution_count": 45,
     "metadata": {},
     "output_type": "execute_result"
    }
   ],
   "source": [
    "#group by city and then find the average fare and number of ridew\n",
    "city_group_df = pd.DataFrame(pyber_df)\n",
    "city_group_df = city_group_df.groupby([\"type\", \"city\"])\n",
    "city_fare_df = round(city_group_df.fare.agg([\"count\",\"mean\"]),0)\n",
    "city_fare_df.columns = [\"Number of Rides\", \"Average Fare per Ride\"]\n",
    "city_fare_df[\"% of Total Rides\"] = round(city_fare_df[\"Number of Rides\"] / sum(city_fare_df[\"Number of Rides\"]) * 100, 2)\n",
    "city_fare_df[\"% of Total Fares\"] = round(city_fare_df[\"Average Fare per Ride\"] / sum(city_fare_df[\"Average Fare per Ride\"]) * 100, 2)\n",
    "city_fare_df.head(5)\n"
   ]
  },
  {
   "cell_type": "code",
   "execution_count": 54,
   "metadata": {},
   "outputs": [
    {
     "data": {
      "text/html": [
       "<div>\n",
       "<style>\n",
       "    .dataframe thead tr:only-child th {\n",
       "        text-align: right;\n",
       "    }\n",
       "\n",
       "    .dataframe thead th {\n",
       "        text-align: left;\n",
       "    }\n",
       "\n",
       "    .dataframe tbody tr th {\n",
       "        vertical-align: top;\n",
       "    }\n",
       "</style>\n",
       "<table border=\"1\" class=\"dataframe\">\n",
       "  <thead>\n",
       "    <tr style=\"text-align: right;\">\n",
       "      <th></th>\n",
       "      <th>Number of Rides</th>\n",
       "      <th>Total Revenue of Fares</th>\n",
       "      <th>Average Fare per Ride</th>\n",
       "      <th>% of Total Rides</th>\n",
       "      <th>% of Total Fares</th>\n",
       "    </tr>\n",
       "    <tr>\n",
       "      <th>type</th>\n",
       "      <th></th>\n",
       "      <th></th>\n",
       "      <th></th>\n",
       "      <th></th>\n",
       "      <th></th>\n",
       "    </tr>\n",
       "  </thead>\n",
       "  <tbody>\n",
       "    <tr>\n",
       "      <th>Rural</th>\n",
       "      <td>125</td>\n",
       "      <td>4255.0</td>\n",
       "      <td>34.0</td>\n",
       "      <td>5.19</td>\n",
       "      <td>6.58</td>\n",
       "    </tr>\n",
       "    <tr>\n",
       "      <th>Suburban</th>\n",
       "      <td>657</td>\n",
       "      <td>20336.0</td>\n",
       "      <td>31.0</td>\n",
       "      <td>27.30</td>\n",
       "      <td>31.45</td>\n",
       "    </tr>\n",
       "    <tr>\n",
       "      <th>Urban</th>\n",
       "      <td>1625</td>\n",
       "      <td>40078.0</td>\n",
       "      <td>25.0</td>\n",
       "      <td>67.51</td>\n",
       "      <td>61.97</td>\n",
       "    </tr>\n",
       "  </tbody>\n",
       "</table>\n",
       "</div>"
      ],
      "text/plain": [
       "          Number of Rides  Total Revenue of Fares  Average Fare per Ride  \\\n",
       "type                                                                       \n",
       "Rural                 125                  4255.0                   34.0   \n",
       "Suburban              657                 20336.0                   31.0   \n",
       "Urban                1625                 40078.0                   25.0   \n",
       "\n",
       "          % of Total Rides  % of Total Fares  \n",
       "type                                          \n",
       "Rural                 5.19              6.58  \n",
       "Suburban             27.30             31.45  \n",
       "Urban                67.51             61.97  "
      ]
     },
     "execution_count": 54,
     "metadata": {},
     "output_type": "execute_result"
    }
   ],
   "source": [
    "#group data by type only for piechart data\n",
    "city_notype_df = pd.DataFrame(pyber_df)\n",
    "city_notype_df = city_notype_df.groupby([\"type\"])\n",
    "city_type_df = round(city_notype_df.fare.agg([\"count\",\"sum\",\"mean\"]),0)\n",
    "city_type_df.columns = [\"Number of Rides\", \"Total Revenue of Fares\", \"Average Fare per Ride\"]\n",
    "city_type_df[\"% of Total Rides\"] = round(city_type_df[\"Number of Rides\"] / sum(city_type_df[\"Number of Rides\"]) * 100, 2)\n",
    "city_type_df[\"% of Total Fares\"] = round(city_type_df[\"Total Revenue of Fares\"] / sum(city_type_df[\"Total Revenue of Fares\"]) * 100, 2)\n",
    "city_type_df.head(5)\n"
   ]
  },
  {
   "cell_type": "code",
   "execution_count": 55,
   "metadata": {
    "collapsed": true
   },
   "outputs": [],
   "source": [
    "#split the data per city type\n",
    "rural = city_fare_df.loc[\"Rural\" , :]\n",
    "urban = city_fare_df.loc[\"Urban\" , :]\n",
    "suburban = city_fare_df.loc[\"Suburban\" , :]\n"
   ]
  },
  {
   "cell_type": "code",
   "execution_count": 67,
   "metadata": {},
   "outputs": [
    {
     "data": {
      "text/html": [
       "<div>\n",
       "<style>\n",
       "    .dataframe thead tr:only-child th {\n",
       "        text-align: right;\n",
       "    }\n",
       "\n",
       "    .dataframe thead th {\n",
       "        text-align: left;\n",
       "    }\n",
       "\n",
       "    .dataframe tbody tr th {\n",
       "        vertical-align: top;\n",
       "    }\n",
       "</style>\n",
       "<table border=\"1\" class=\"dataframe\">\n",
       "  <thead>\n",
       "    <tr style=\"text-align: right;\">\n",
       "      <th></th>\n",
       "      <th>Drivers by City Type</th>\n",
       "      <th>City Count</th>\n",
       "      <th>% of Drivers Count</th>\n",
       "    </tr>\n",
       "    <tr>\n",
       "      <th>type</th>\n",
       "      <th></th>\n",
       "      <th></th>\n",
       "      <th></th>\n",
       "    </tr>\n",
       "  </thead>\n",
       "  <tbody>\n",
       "    <tr>\n",
       "      <th>Rural</th>\n",
       "      <td>104</td>\n",
       "      <td>18</td>\n",
       "      <td>3.11</td>\n",
       "    </tr>\n",
       "    <tr>\n",
       "      <th>Suburban</th>\n",
       "      <td>635</td>\n",
       "      <td>41</td>\n",
       "      <td>18.98</td>\n",
       "    </tr>\n",
       "    <tr>\n",
       "      <th>Urban</th>\n",
       "      <td>2607</td>\n",
       "      <td>66</td>\n",
       "      <td>77.91</td>\n",
       "    </tr>\n",
       "  </tbody>\n",
       "</table>\n",
       "</div>"
      ],
      "text/plain": [
       "          Drivers by City Type  City Count  % of Drivers Count\n",
       "type                                                          \n",
       "Rural                      104          18                3.11\n",
       "Suburban                   635          41               18.98\n",
       "Urban                     2607          66               77.91"
      ]
     },
     "execution_count": 67,
     "metadata": {},
     "output_type": "execute_result"
    }
   ],
   "source": [
    "#find the total number of drivers per city\n",
    "#how do i reset/make city and type the index (Like the two data frames above)\n",
    "driver_df = pd.DataFrame(pyber_df)\n",
    "driver_drop_df = driver_df.drop_duplicates(\"city\")\n",
    "driver_drop_df.head(126)\n",
    "driver_drop_df = driver_drop_df.groupby(\"type\")\n",
    "driver_drop_df.head(200)\n",
    "driver_count_df = driver_drop_df.driver_count.agg([\"sum\", \"count\"])\n",
    "driver_count_df.columns = [\"Drivers by City Type\", \"City Count\"]\n",
    "driver_count_df[\"% of Drivers Count\"] = round(driver_count_df[\"Drivers by City Type\"] / sum(driver_count_df[\"Drivers by City Type\"]) * 100, 2)\n",
    "driver_count_df\n",
    "\n",
    "\n",
    "\n"
   ]
  },
  {
   "cell_type": "code",
   "execution_count": 7,
   "metadata": {
    "collapsed": true
   },
   "outputs": [],
   "source": [
    "#merge_1_df = pd.concat([city_fare_df, rides_count_df], axis=1)\n",
    "#merge_1_df.head()"
   ]
  },
  {
   "cell_type": "code",
   "execution_count": 80,
   "metadata": {},
   "outputs": [
    {
     "data": {
      "image/png": "[encoded data removed]",
      "text/plain": [
       "<matplotlib.figure.Figure at 0x2736324e550>"
      ]
     },
     "metadata": {},
     "output_type": "display_data"
    }
   ],
   "source": [
    "# Tells matplotlib that we want to make a scatter plot\n",
    "x_axis1 = rural[\"Number of Rides\"]\n",
    "data1 = rural[\"Average Fare per Ride\"]\n",
    "x_axis2 = suburban[\"Number of Rides\"]\n",
    "data2 = suburban[\"Average Fare per Ride\"]\n",
    "x_axis3 = urban[\"Number of Rides\"]\n",
    "data3 = urban[\"Average Fare per Ride\"]\n",
    "\n",
    "\n",
    "\n",
    "plt.scatter(x_axis1, data1, marker=\"o\", color=\"gold\", edgecolors=\"black\",\n",
    "            s=driver_count*.5, alpha=0.75)\n",
    "\n",
    "plt.scatter(x_axis2, data2, marker=\"o\", color=\"lightskyblue\", edgecolors=\"black\",\n",
    "            s=driver_count*.5, alpha=0.75)\n",
    "\n",
    "plt.scatter(x_axis3, data3, marker=\"o\", color=\"lightcoral\", edgecolors=\"black\",\n",
    "            s=driver_count*.5, alpha=0.75)\n",
    "\n",
    "plt.show()"
   ]
  },
  {
   "cell_type": "markdown",
   "metadata": {
    "collapsed": true
   },
   "source": [
    "# Pie Chart for % of Total Fares by City Type"
   ]
  },
  {
   "cell_type": "code",
   "execution_count": 75,
   "metadata": {},
   "outputs": [
    {
     "data": {
      "image/png": "[encoded data removed]",
      "text/plain": [
       "<matplotlib.figure.Figure at 0x2736348ef28>"
      ]
     },
     "metadata": {},
     "output_type": "display_data"
    }
   ],
   "source": [
    "# Labels for the sections of our pie chart\n",
    "labels = city_type_df.index.values\n",
    "\n",
    "# The values of each section of the pie chart\n",
    "sizes =city_type_df[\"% of Total Fares\"]\n",
    "\n",
    "# The colors of each section of the pie chart\n",
    "colors = ['gold','lightskyblue','lightcoral']\n",
    "\n",
    "explode = [0,0,0.1]\n",
    "\n",
    "plt.pie(sizes, explode=explode, labels=labels, colors=colors,\n",
    "        autopct=\"%1.1f%%\", shadow=True, startangle=140)\n",
    "\n",
    "plt.axis(\"tight\")\n",
    "plt.show()"
   ]
  },
  {
   "cell_type": "code",
   "execution_count": null,
   "metadata": {
    "collapsed": true
   },
   "outputs": [],
   "source": []
  },
  {
   "cell_type": "markdown",
   "metadata": {},
   "source": []
  },
  {
   "cell_type": "markdown",
   "metadata": {
    "collapsed": true
   },
   "source": [
    "# Pie Chart for % of Total Rides by City Type"
   ]
  },
  {
   "cell_type": "code",
   "execution_count": 78,
   "metadata": {},
   "outputs": [
    {
     "data": {
      "image/png": "[encoded data removed]",
      "text/plain": [
       "<matplotlib.figure.Figure at 0x27363156630>"
      ]
     },
     "metadata": {},
     "output_type": "display_data"
    }
   ],
   "source": [
    "# Labels for the sections of our pie chart\n",
    "labels = city_type_df.index.values\n",
    "\n",
    "# The values of each section of the pie chart\n",
    "sizes =city_type_df[\"% of Total Rides\"]\n",
    "\n",
    "# The colors of each section of the pie chart\n",
    "colors = ['gold','lightskyblue','lightcoral']\n",
    "\n",
    "explode = [0,0,0.1]\n",
    "\n",
    "plt.pie(sizes, explode=explode, labels=labels, colors=colors,\n",
    "        autopct=\"%1.1f%%\", shadow=True, startangle=140)\n",
    "\n",
    "plt.axis(\"tight\")\n",
    "plt.show()"
   ]
  },
  {
   "cell_type": "markdown",
   "metadata": {},
   "source": [
    "# Pie Chart for % of Total Drivers by City Type"
   ]
  },
  {
   "cell_type": "code",
   "execution_count": 79,
   "metadata": {},
   "outputs": [
    {
     "data": {
      "image/png": "[encoded data removed]",
      "text/plain": [
       "<matplotlib.figure.Figure at 0x2736332a3c8>"
      ]
     },
     "metadata": {},
     "output_type": "display_data"
    }
   ],
   "source": [
    "# Labels for the sections of our pie chart\n",
    "labels = driver_count_df.index.values\n",
    "\n",
    "# The values of each section of the pie chart\n",
    "sizes =driver_count_df[\"% of Drivers Count\"]\n",
    "\n",
    "# The colors of each section of the pie chart\n",
    "colors = ['gold','lightskyblue','lightcoral']\n",
    "\n",
    "explode = [0,0,0.1]\n",
    "\n",
    "plt.pie(sizes, explode=explode, labels=labels, colors=colors,\n",
    "        autopct=\"%1.1f%%\", shadow=True, startangle=140)\n",
    "\n",
    "plt.axis(\"tight\")\n",
    "plt.show()"
   ]
  },
  {
   "cell_type": "code",
   "execution_count": null,
   "metadata": {
    "collapsed": true
   },
   "outputs": [],
   "source": []
  }
 ],
 "metadata": {
  "kernelspec": {
   "display_name": "Python 3",
   "language": "python",
   "name": "python3"
  },
  "language_info": {
   "codemirror_mode": {
    "name": "ipython",
    "version": 3
   },
   "file_extension": ".py",
   "mimetype": "text/x-python",
   "name": "python",
   "nbconvert_exporter": "python",
   "pygments_lexer": "ipython3",
   "version": "3.6.2"
  }
 },
 "nbformat": 4,
 "nbformat_minor": 2
}
